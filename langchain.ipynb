{
 "cells": [
  {
   "cell_type": "code",
   "execution_count": null,
   "id": "dfb9d519",
   "metadata": {},
   "outputs": [],
   "source": []
  },
  {
   "cell_type": "code",
   "execution_count": 4,
   "id": "54c7e13e",
   "metadata": {},
   "outputs": [
    {
     "name": "stdout",
     "output_type": "stream",
     "text": [
      "**Setembro em Ribeirão Preto – clima típico**\n",
      "\n",
      "| Item | Informação | Fonte |\n",
      "|------|------------|-------|\n",
      "| **Período do ano** | **Outono** (primeiro trimestre do outono no Hemisfério Sul) | Instituto Nacional de Meteorologia (INMET) |\n",
      "| **Temperatura média** | 22 °C – 29 °C (dia) / 13 °C – 19 °C (noite) | INMET |\n",
      "| **Precipitação média** | **≈ 25 mm** (média de 3‑4 chuvas leves) | INMET, IBGE |\n",
      "| **Dias chuvosos** | Cerca de **3–5 dias** de chuva no mês | INMET |\n",
      "| **Humidade relativa média** | 70 %‑80 % | INMET |\n",
      "| **Outras observações** | Ribeirão Preto está na zona de transição entre a Amazônia e o Cerrado; o outono costuma ser relativamente seco, com poucos episódios de chuva forte. | |\n",
      "\n",
      "### Como interpretar esses dados\n",
      "\n",
      "1. **Menor intensidade**  \n",
      "   - Em comparação com os meses de verão (dez–dezembro) e inverno (jun–jul), Setembro costuma apresentar menor número de chuvas e menos volume de precipitação.  \n",
      "   - As chuvas que ocorrem geralmente são **intermitentes e leves**, muitas vezes concentradas em poucos eventos de 10‑20 mm.\n",
      "\n",
      "2. **Impacto na agricultura**  \n",
      "   - O outono costuma ser um período de **descarga de umidade** para o solo, preparando o cultivo das safras de inverno (trigo, aveia, etc.).  \n",
      "   - Se houver chuvas mais intensas, pode ocorrer leve encharcamento de áreas de plantio de soja ou milho já em fase de colheita.\n",
      "\n",
      "3. **Planejamento de atividades externas**  \n",
      "   - Embora a probabilidade de chuva não seja alta, é prudente planejar eventos ao ar livre com um backup em caso de **chuva leve**.  \n",
      "   - Previsões de chuva costumam ser mais estáveis no período, permitindo melhor ajuste de cronogramas.\n",
      "\n",
      "### Previsões de curto prazo\n",
      "\n",
      "Para obter a previsão mais atual (ex.: se hoje vai chover ou não), consulte:\n",
      "\n",
      "- **MeteoSBR** (app ou site) – oferece previsões em 48h, temperatura, umidade e risco de chuva.  \n",
      "- **Climatempo** – além de previsão, traz histórico de chuva por dia.  \n",
      "- **INMET** – boletins meteorológicos oficiais para a região.\n",
      "\n",
      "---\n",
      "\n",
      "#### Resumindo\n",
      "\n",
      "- **Setembro em Ribeirão Preto costuma ser um mês relativamente seco** na região.  \n",
      "- **Média de 25 mm** de chuva ao longo do mês, distribuídos em 3‑5 dias.  \n",
      "- Se precisar planejar algo que dependa da chuva, fique de olho nas previsões diárias, mas o risco geral de chuva forte é baixo.\n"
     ]
    }
   ],
   "source": [
    "from langchain_community.llms import Ollama\n",
    "\n",
    "llm = Ollama(\n",
    "    model=\"gpt-oss:20b\",\n",
    "    base_url=\"http://europa.ffclrp.usp.br:11434\"\n",
    ")\n",
    "\n",
    "resposta = llm.invoke(\"Setembro chove em Ribeirão Preto?\")\n",
    "print(resposta)"
   ]
  },
  {
   "cell_type": "code",
   "execution_count": null,
   "id": "cebe8703",
   "metadata": {},
   "outputs": [],
   "source": []
  },
  {
   "cell_type": "code",
   "execution_count": null,
   "id": "dde26194",
   "metadata": {},
   "outputs": [],
   "source": []
  }
 ],
 "metadata": {
  "kernelspec": {
   "display_name": "venv inflação",
   "language": "python",
   "name": "venv"
  }
 },
 "nbformat": 4,
 "nbformat_minor": 5
}
