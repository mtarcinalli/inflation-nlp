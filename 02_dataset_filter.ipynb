{
 "cells": [
  {
   "cell_type": "code",
   "execution_count": 2,
   "id": "041b0106",
   "metadata": {},
   "outputs": [],
   "source": [
    "import os\n",
    "import string\n",
    "import pandas as pd\n",
    "import matplotlib.pyplot as plt\n",
    "from sklearn.metrics.pairwise import cosine_similarity\n",
    "import numpy as np\n",
    "from tqdm import tqdm\n",
    "\n",
    "from langchain_huggingface import HuggingFaceEmbeddings"
   ]
  },
  {
   "cell_type": "code",
   "execution_count": 18,
   "id": "0570e3eb",
   "metadata": {},
   "outputs": [],
   "source": [
    "tqdm.pandas()"
   ]
  },
  {
   "cell_type": "markdown",
   "id": "610708ae",
   "metadata": {},
   "source": [
    "# Loading dataset"
   ]
  },
  {
   "cell_type": "code",
   "execution_count": 7,
   "id": "9212f78e",
   "metadata": {},
   "outputs": [
    {
     "name": "stdout",
     "output_type": "stream",
     "text": [
      "        data                                           sentenca\n",
      "0 2012-04-18  Essa pagina depende do javascript para abrir, ...\n",
      "1 2012-04-18                           Relatórios de AIR e ARR.\n",
      "2 2012-04-18                                     Atas do Copom.\n",
      "3 2012-04-18        Atas do Comitê de Política Monetária-Copom.\n",
      "4 2012-04-18                                    166ª Reunião.-.\n"
     ]
    }
   ],
   "source": [
    "# Diretório dos arquivos\n",
    "diretorio = \"data/full/sentences/\"\n",
    "\n",
    "dados = []\n",
    "\n",
    "for nome_arquivo in os.listdir(diretorio):\n",
    "    caminho = os.path.join(diretorio, nome_arquivo)\n",
    "    if os.path.isfile(caminho):\n",
    "        data = nome_arquivo.replace(\".txt\", \"\")  # remove extensão se houver\n",
    "        with open(caminho, \"r\", encoding=\"utf-8\") as f:\n",
    "            for linha in f:\n",
    "                sentenca = linha.strip()\n",
    "                if sentenca:\n",
    "                    dados.append({\"data\": data, \"sentenca\": sentenca})\n",
    "\n",
    "\n",
    "df = pd.DataFrame(dados)\n",
    "df[\"data\"] = pd.to_datetime(df[\"data\"], format=\"%d%m%Y\", errors=\"coerce\")\n",
    "print(df.head())"
   ]
  },
  {
   "cell_type": "code",
   "execution_count": 15,
   "id": "2e79a2b1",
   "metadata": {},
   "outputs": [
    {
     "data": {
      "text/html": [
       "<div>\n",
       "<style scoped>\n",
       "    .dataframe tbody tr th:only-of-type {\n",
       "        vertical-align: middle;\n",
       "    }\n",
       "\n",
       "    .dataframe tbody tr th {\n",
       "        vertical-align: top;\n",
       "    }\n",
       "\n",
       "    .dataframe thead th {\n",
       "        text-align: right;\n",
       "    }\n",
       "</style>\n",
       "<table border=\"1\" class=\"dataframe\">\n",
       "  <thead>\n",
       "    <tr style=\"text-align: right;\">\n",
       "      <th></th>\n",
       "      <th>data</th>\n",
       "      <th>sentenca</th>\n",
       "    </tr>\n",
       "  </thead>\n",
       "  <tbody>\n",
       "    <tr>\n",
       "      <th>0</th>\n",
       "      <td>2012-04-18</td>\n",
       "      <td>Essa pagina depende do javascript para abrir, ...</td>\n",
       "    </tr>\n",
       "    <tr>\n",
       "      <th>1</th>\n",
       "      <td>2012-04-18</td>\n",
       "      <td>Relatórios de AIR e ARR.</td>\n",
       "    </tr>\n",
       "    <tr>\n",
       "      <th>2</th>\n",
       "      <td>2012-04-18</td>\n",
       "      <td>Atas do Copom.</td>\n",
       "    </tr>\n",
       "    <tr>\n",
       "      <th>3</th>\n",
       "      <td>2012-04-18</td>\n",
       "      <td>Atas do Comitê de Política Monetária-Copom.</td>\n",
       "    </tr>\n",
       "    <tr>\n",
       "      <th>4</th>\n",
       "      <td>2012-04-18</td>\n",
       "      <td>166ª Reunião.-.</td>\n",
       "    </tr>\n",
       "    <tr>\n",
       "      <th>...</th>\n",
       "      <td>...</td>\n",
       "      <td>...</td>\n",
       "    </tr>\n",
       "    <tr>\n",
       "      <th>55930</th>\n",
       "      <td>2024-05-08</td>\n",
       "      <td>Saiba mais na nossa.</td>\n",
       "    </tr>\n",
       "    <tr>\n",
       "      <th>55931</th>\n",
       "      <td>2024-05-08</td>\n",
       "      <td>Gerenciar cookies.</td>\n",
       "    </tr>\n",
       "    <tr>\n",
       "      <th>55932</th>\n",
       "      <td>2024-05-08</td>\n",
       "      <td>Rejeitar cookies.</td>\n",
       "    </tr>\n",
       "    <tr>\n",
       "      <th>55933</th>\n",
       "      <td>2024-05-08</td>\n",
       "      <td>Aceitar cookies.</td>\n",
       "    </tr>\n",
       "    <tr>\n",
       "      <th>55934</th>\n",
       "      <td>2024-05-08</td>\n",
       "      <td>Relatórios de AIR e ARR.</td>\n",
       "    </tr>\n",
       "  </tbody>\n",
       "</table>\n",
       "<p>55935 rows × 2 columns</p>\n",
       "</div>"
      ],
      "text/plain": [
       "            data                                           sentenca\n",
       "0     2012-04-18  Essa pagina depende do javascript para abrir, ...\n",
       "1     2012-04-18                           Relatórios de AIR e ARR.\n",
       "2     2012-04-18                                     Atas do Copom.\n",
       "3     2012-04-18        Atas do Comitê de Política Monetária-Copom.\n",
       "4     2012-04-18                                    166ª Reunião.-.\n",
       "...          ...                                                ...\n",
       "55930 2024-05-08                               Saiba mais na nossa.\n",
       "55931 2024-05-08                                 Gerenciar cookies.\n",
       "55932 2024-05-08                                  Rejeitar cookies.\n",
       "55933 2024-05-08                                   Aceitar cookies.\n",
       "55934 2024-05-08                           Relatórios de AIR e ARR.\n",
       "\n",
       "[55935 rows x 2 columns]"
      ]
     },
     "execution_count": 15,
     "metadata": {},
     "output_type": "execute_result"
    }
   ],
   "source": [
    "df"
   ]
  },
  {
   "cell_type": "code",
   "execution_count": null,
   "id": "c630ffca",
   "metadata": {},
   "outputs": [],
   "source": []
  },
  {
   "cell_type": "code",
   "execution_count": 10,
   "id": "87f15a9b",
   "metadata": {},
   "outputs": [],
   "source": [
    "# Gerar embeddings usando modelo HuggingFace\n",
    "embeddings = HuggingFaceEmbeddings(model_name=\"Qwen/Qwen3-Embedding-0.6B\")"
   ]
  },
  {
   "cell_type": "code",
   "execution_count": 11,
   "id": "f35c2556",
   "metadata": {},
   "outputs": [],
   "source": [
    "# Gera o vetor da palavra \"inflação\"\n",
    "vetor_inflacao = embeddings.embed_query(\"inflação\")"
   ]
  },
  {
   "cell_type": "code",
   "execution_count": 13,
   "id": "a56ce988",
   "metadata": {},
   "outputs": [],
   "source": [
    "# Função para calcular a distância (cosine similarity invertida)\n",
    "def calcular_distancia(sentenca, vetor_referencia):\n",
    "    vetor_sentenca = embeddings.embed_query(sentenca)\n",
    "    # Cosine similarity retorna valor entre -1 e 1; quanto mais próximo de 1, mais similar\n",
    "    similaridade = cosine_similarity([vetor_sentenca], [vetor_referencia])[0][0]\n",
    "    # Para transformar em \"distância\", usamos 1 - similaridade\n",
    "    distancia = 1 - similaridade\n",
    "    return distancia"
   ]
  },
  {
   "cell_type": "code",
   "execution_count": 19,
   "id": "3b8d725c",
   "metadata": {},
   "outputs": [
    {
     "name": "stderr",
     "output_type": "stream",
     "text": [
      "100%|██████████| 55935/55935 [6:02:04<00:00,  2.57it/s]   \n"
     ]
    }
   ],
   "source": [
    "# Aplica a função ao DataFrame\n",
    "df[\"inflation_distance\"] = df[\"sentenca\"].progress_apply(lambda x: calcular_distancia(x, vetor_inflacao))"
   ]
  },
  {
   "cell_type": "code",
   "execution_count": 1,
   "id": "3a220e66",
   "metadata": {},
   "outputs": [
    {
     "ename": "NameError",
     "evalue": "name 'df' is not defined",
     "output_type": "error",
     "traceback": [
      "\u001b[31m---------------------------------------------------------------------------\u001b[39m",
      "\u001b[31mNameError\u001b[39m                                 Traceback (most recent call last)",
      "\u001b[36mCell\u001b[39m\u001b[36m \u001b[39m\u001b[32mIn[1]\u001b[39m\u001b[32m, line 1\u001b[39m\n\u001b[32m----> \u001b[39m\u001b[32m1\u001b[39m \u001b[43mdf\u001b[49m\n",
      "\u001b[31mNameError\u001b[39m: name 'df' is not defined"
     ]
    }
   ],
   "source": [
    "df"
   ]
  },
  {
   "cell_type": "code",
   "execution_count": null,
   "id": "3527695c",
   "metadata": {},
   "outputs": [],
   "source": []
  },
  {
   "cell_type": "code",
   "execution_count": null,
   "id": "a011fdd0",
   "metadata": {},
   "outputs": [],
   "source": []
  }
 ],
 "metadata": {
  "kernelspec": {
   "display_name": "venv (3.11.2)",
   "language": "python",
   "name": "python3"
  },
  "language_info": {
   "codemirror_mode": {
    "name": "ipython",
    "version": 3
   },
   "file_extension": ".py",
   "mimetype": "text/x-python",
   "name": "python",
   "nbconvert_exporter": "python",
   "pygments_lexer": "ipython3",
   "version": "3.11.2"
  }
 },
 "nbformat": 4,
 "nbformat_minor": 5
}
